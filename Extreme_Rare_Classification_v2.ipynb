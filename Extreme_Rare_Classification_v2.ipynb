{
  "nbformat": 4,
  "nbformat_minor": 0,
  "metadata": {
    "colab": {
      "name": "Extreme_Rare_Classification_v2.ipynb",
      "version": "0.3.2",
      "provenance": [],
      "collapsed_sections": [],
      "include_colab_link": true
    },
    "kernelspec": {
      "name": "python3",
      "display_name": "Python 3"
    }
  },
  "cells": [
    {
      "cell_type": "markdown",
      "metadata": {
        "id": "view-in-github",
        "colab_type": "text"
      },
      "source": [
        "<a href=\"https://colab.research.google.com/github/kskaran94/Extreme-rare-Classification/blob/master/Extreme_Rare_Classification_v2.ipynb\" target=\"_parent\"><img src=\"https://colab.research.google.com/assets/colab-badge.svg\" alt=\"Open In Colab\"/></a>"
      ]
    },
    {
      "cell_type": "markdown",
      "metadata": {
        "id": "aMmbtf7YmYGO",
        "colab_type": "text"
      },
      "source": [
        "### **Libraries used**"
      ]
    },
    {
      "cell_type": "code",
      "metadata": {
        "id": "ouz4PV-qqenc",
        "colab_type": "code",
        "outputId": "ad09f6c9-abc2-49d3-f68d-3a47f5cbee87",
        "colab": {
          "base_uri": "https://localhost:8080/",
          "height": 34
        }
      },
      "source": [
        "import matplotlib.pyplot as plt\n",
        "import pandas as pd\n",
        "from google.colab import files\n",
        "from sklearn.model_selection import train_test_split\n",
        "from sklearn.preprocessing import StandardScaler\n",
        "from keras.layers import Dense, Input, regularizers\n",
        "from keras.models import Model, Sequential\n",
        "from keras.callbacks import ModelCheckpoint, TensorBoard\n",
        "from sklearn.metrics import confusion_matrix, precision_recall_curve\n",
        "import seaborn as sns\n",
        "import numpy as np\n",
        "from numpy.random import seed\n",
        "seed(1)\n",
        "from tensorflow import set_random_seed\n",
        "set_random_seed(2)\n",
        "SEED = 123\n"
      ],
      "execution_count": 1,
      "outputs": [
        {
          "output_type": "stream",
          "text": [
            "Using TensorFlow backend.\n"
          ],
          "name": "stderr"
        }
      ]
    },
    {
      "cell_type": "code",
      "metadata": {
        "id": "kwpT32EXqqVw",
        "colab_type": "code",
        "outputId": "0401638e-da56-46ab-d0bd-d6f040aa180f",
        "colab": {
          "resources": {
            "http://localhost:8080/nbextensions/google.colab/files.js": {
              "data": "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",
              "ok": true,
              "headers": [
                [
                  "content-type",
                  "application/javascript"
                ]
              ],
              "status": 200,
              "status_text": ""
            }
          },
          "base_uri": "https://localhost:8080/",
          "height": 71
        }
      },
      "source": [
        "uploaded = files.upload()"
      ],
      "execution_count": 2,
      "outputs": [
        {
          "output_type": "display_data",
          "data": {
            "text/html": [
              "\n",
              "     <input type=\"file\" id=\"files-3474ad10-f4f9-4638-a701-6892f7f9ffee\" name=\"files[]\" multiple disabled />\n",
              "     <output id=\"result-3474ad10-f4f9-4638-a701-6892f7f9ffee\">\n",
              "      Upload widget is only available when the cell has been executed in the\n",
              "      current browser session. Please rerun this cell to enable.\n",
              "      </output>\n",
              "      <script src=\"/nbextensions/google.colab/files.js\"></script> "
            ],
            "text/plain": [
              "<IPython.core.display.HTML object>"
            ]
          },
          "metadata": {
            "tags": []
          }
        },
        {
          "output_type": "stream",
          "text": [
            "Saving processminer-rare-event-mts - data.csv to processminer-rare-event-mts - data.csv\n"
          ],
          "name": "stdout"
        }
      ]
    },
    {
      "cell_type": "markdown",
      "metadata": {
        "id": "HefS6ZqinfwI",
        "colab_type": "text"
      },
      "source": [
        "## **Reading Data**"
      ]
    },
    {
      "cell_type": "markdown",
      "metadata": {
        "id": "akwXOHwgqK-E",
        "colab_type": "text"
      },
      "source": [
        "This is a binary labeled data from a pulp-and-paper mill for sheet breaks. A single sheet break can cause a loss of thousands of dollars to the mill. Even a 5% improvement is useful for the mill.\n",
        "\n"
      ]
    },
    {
      "cell_type": "markdown",
      "metadata": {
        "id": "zUWVG-AhqEwy",
        "colab_type": "text"
      },
      "source": [
        "The data can be downloaded from [here](https://docs.google.com/forms/d/e/1FAIpQLSdyUk3lfDl7I5KYK_pw285LCApc-_RcoC0Tf9cnDnZ_TWzPAw/viewform)"
      ]
    },
    {
      "cell_type": "code",
      "metadata": {
        "id": "SCSVvHYkqyBg",
        "colab_type": "code",
        "colab": {}
      },
      "source": [
        "data = pd.read_csv('/content/processminer-rare-event-mts - data.csv')"
      ],
      "execution_count": 0,
      "outputs": []
    },
    {
      "cell_type": "code",
      "metadata": {
        "id": "qFd6TLacsLGx",
        "colab_type": "code",
        "outputId": "c169d128-ce9f-4867-846f-1732d00cace9",
        "colab": {
          "base_uri": "https://localhost:8080/",
          "height": 153
        }
      },
      "source": [
        "data.columns"
      ],
      "execution_count": 4,
      "outputs": [
        {
          "output_type": "execute_result",
          "data": {
            "text/plain": [
              "Index(['time', 'y', 'x1', 'x2', 'x3', 'x4', 'x5', 'x6', 'x7', 'x8', 'x9',\n",
              "       'x10', 'x11', 'x12', 'x13', 'x14', 'x15', 'x16', 'x17', 'x18', 'x19',\n",
              "       'x20', 'x21', 'x22', 'x23', 'x24', 'x25', 'x26', 'x27', 'x28', 'x29',\n",
              "       'x30', 'x31', 'x32', 'x33', 'x34', 'x35', 'x36', 'x37', 'x38', 'x39',\n",
              "       'x40', 'x41', 'x42', 'x43', 'x44', 'x45', 'x46', 'x47', 'x48', 'x49',\n",
              "       'x50', 'x51', 'x52', 'x53', 'x54', 'x55', 'x56', 'x57', 'x58', 'x59',\n",
              "       'x60', 'x61'],\n",
              "      dtype='object')"
            ]
          },
          "metadata": {
            "tags": []
          },
          "execution_count": 4
        }
      ]
    },
    {
      "cell_type": "code",
      "metadata": {
        "id": "nNgJP6_OGavo",
        "colab_type": "code",
        "outputId": "4b167f4d-efb0-4083-d3fd-e58fa2cee034",
        "colab": {
          "base_uri": "https://localhost:8080/",
          "height": 312
        }
      },
      "source": [
        "plt.bar(data['y'].value_counts().index,data['y'].value_counts())\n",
        "plt.xticks([0,1])\n",
        "plt.xlabel('Class')\n",
        "plt.title('Extreme Rare Event Class Imbalance')\n",
        "plt.ylabel('Frequency')"
      ],
      "execution_count": 5,
      "outputs": [
        {
          "output_type": "execute_result",
          "data": {
            "text/plain": [
              "Text(0, 0.5, 'Frequency')"
            ]
          },
          "metadata": {
            "tags": []
          },
          "execution_count": 5
        },
        {
          "output_type": "display_data",
          "data": {
            "image/png": "[encoded data removed]",
            "text/plain": [
              "<Figure size 432x288 with 1 Axes>"
            ]
          },
          "metadata": {
            "tags": []
          }
        }
      ]
    },
    {
      "cell_type": "markdown",
      "metadata": {
        "id": "46v8aV7PtBij",
        "colab_type": "text"
      },
      "source": [
        "## **Data Preprocessing**"
      ]
    },
    {
      "cell_type": "markdown",
      "metadata": {
        "id": "obeeqgDetFWF",
        "colab_type": "text"
      },
      "source": [
        "Objective : To predict a sheet-break before it occurs.  Predict the break 4 minutes in advance."
      ]
    },
    {
      "cell_type": "code",
      "metadata": {
        "id": "LBiTXzIYsVia",
        "colab_type": "code",
        "outputId": "c1298cda-ec02-4f88-f7c0-25ce6465bf7e",
        "colab": {
          "base_uri": "https://localhost:8080/",
          "height": 309
        }
      },
      "source": [
        "data.head()"
      ],
      "execution_count": 6,
      "outputs": [
        {
          "output_type": "execute_result",
          "data": {
            "text/html": [
              "<div>\n",
              "<style scoped>\n",
              "    .dataframe tbody tr th:only-of-type {\n",
              "        vertical-align: middle;\n",
              "    }\n",
              "\n",
              "    .dataframe tbody tr th {\n",
              "        vertical-align: top;\n",
              "    }\n",
              "\n",
              "    .dataframe thead th {\n",
              "        text-align: right;\n",
              "    }\n",
              "</style>\n",
              "<table border=\"1\" class=\"dataframe\">\n",
              "  <thead>\n",
              "    <tr style=\"text-align: right;\">\n",
              "      <th></th>\n",
              "      <th>time</th>\n",
              "      <th>y</th>\n",
              "      <th>x1</th>\n",
              "      <th>x2</th>\n",
              "      <th>x3</th>\n",
              "      <th>x4</th>\n",
              "      <th>x5</th>\n",
              "      <th>x6</th>\n",
              "      <th>x7</th>\n",
              "      <th>x8</th>\n",
              "      <th>x9</th>\n",
              "      <th>x10</th>\n",
              "      <th>x11</th>\n",
              "      <th>x12</th>\n",
              "      <th>x13</th>\n",
              "      <th>x14</th>\n",
              "      <th>x15</th>\n",
              "      <th>x16</th>\n",
              "      <th>x17</th>\n",
              "      <th>x18</th>\n",
              "      <th>x19</th>\n",
              "      <th>x20</th>\n",
              "      <th>x21</th>\n",
              "      <th>x22</th>\n",
              "      <th>x23</th>\n",
              "      <th>x24</th>\n",
              "      <th>x25</th>\n",
              "      <th>x26</th>\n",
              "      <th>x27</th>\n",
              "      <th>x28</th>\n",
              "      <th>x29</th>\n",
              "      <th>x30</th>\n",
              "      <th>x31</th>\n",
              "      <th>x32</th>\n",
              "      <th>x33</th>\n",
              "      <th>x34</th>\n",
              "      <th>x35</th>\n",
              "      <th>x36</th>\n",
              "      <th>x37</th>\n",
              "      <th>x38</th>\n",
              "      <th>x39</th>\n",
              "      <th>x40</th>\n",
              "      <th>x41</th>\n",
              "      <th>x42</th>\n",
              "      <th>x43</th>\n",
              "      <th>x44</th>\n",
              "      <th>x45</th>\n",
              "      <th>x46</th>\n",
              "      <th>x47</th>\n",
              "      <th>x48</th>\n",
              "      <th>x49</th>\n",
              "      <th>x50</th>\n",
              "      <th>x51</th>\n",
              "      <th>x52</th>\n",
              "      <th>x53</th>\n",
              "      <th>x54</th>\n",
              "      <th>x55</th>\n",
              "      <th>x56</th>\n",
              "      <th>x57</th>\n",
              "      <th>x58</th>\n",
              "      <th>x59</th>\n",
              "      <th>x60</th>\n",
              "      <th>x61</th>\n",
              "    </tr>\n",
              "  </thead>\n",
              "  <tbody>\n",
              "    <tr>\n",
              "      <th>0</th>\n",
              "      <td>5/1/99 0:00</td>\n",
              "      <td>0</td>\n",
              "      <td>0.376665</td>\n",
              "      <td>-4.596435</td>\n",
              "      <td>-4.095756</td>\n",
              "      <td>13.497687</td>\n",
              "      <td>-0.118830</td>\n",
              "      <td>-20.669883</td>\n",
              "      <td>0.000732</td>\n",
              "      <td>-0.061114</td>\n",
              "      <td>-0.059966</td>\n",
              "      <td>-0.038189</td>\n",
              "      <td>0.877951</td>\n",
              "      <td>-0.052959</td>\n",
              "      <td>-13.306135</td>\n",
              "      <td>0.101068</td>\n",
              "      <td>0.041800</td>\n",
              "      <td>0.199901</td>\n",
              "      <td>-2.327329</td>\n",
              "      <td>-0.944167</td>\n",
              "      <td>3.075199</td>\n",
              "      <td>0.123154</td>\n",
              "      <td>-0.104334</td>\n",
              "      <td>-0.570710</td>\n",
              "      <td>-9.784456</td>\n",
              "      <td>0.355960</td>\n",
              "      <td>15.842819</td>\n",
              "      <td>-0.451973</td>\n",
              "      <td>-0.105282</td>\n",
              "      <td>96</td>\n",
              "      <td>-134.27786</td>\n",
              "      <td>0.058726</td>\n",
              "      <td>-0.021645</td>\n",
              "      <td>9.366755</td>\n",
              "      <td>0.002151</td>\n",
              "      <td>-69.187583</td>\n",
              "      <td>4.232571</td>\n",
              "      <td>-0.225267</td>\n",
              "      <td>-0.196872</td>\n",
              "      <td>-0.072449</td>\n",
              "      <td>-0.103732</td>\n",
              "      <td>-0.720746</td>\n",
              "      <td>-5.412436</td>\n",
              "      <td>76.679042</td>\n",
              "      <td>-0.632727</td>\n",
              "      <td>1351.63286</td>\n",
              "      <td>-0.657095</td>\n",
              "      <td>-0.434947</td>\n",
              "      <td>-108.77597</td>\n",
              "      <td>0.084856</td>\n",
              "      <td>10.210182</td>\n",
              "      <td>11.295155</td>\n",
              "      <td>29.984624</td>\n",
              "      <td>10.091721</td>\n",
              "      <td>0.053279</td>\n",
              "      <td>-4.936434</td>\n",
              "      <td>-24.590146</td>\n",
              "      <td>18.515436</td>\n",
              "      <td>3.473400</td>\n",
              "      <td>0.033444</td>\n",
              "      <td>0.953219</td>\n",
              "      <td>0.006076</td>\n",
              "      <td>0</td>\n",
              "    </tr>\n",
              "    <tr>\n",
              "      <th>1</th>\n",
              "      <td>5/1/99 0:02</td>\n",
              "      <td>0</td>\n",
              "      <td>0.475720</td>\n",
              "      <td>-4.542502</td>\n",
              "      <td>-4.018359</td>\n",
              "      <td>16.230659</td>\n",
              "      <td>-0.128733</td>\n",
              "      <td>-18.758079</td>\n",
              "      <td>0.000732</td>\n",
              "      <td>-0.061114</td>\n",
              "      <td>-0.059966</td>\n",
              "      <td>-0.038189</td>\n",
              "      <td>0.873273</td>\n",
              "      <td>-0.014244</td>\n",
              "      <td>-13.306135</td>\n",
              "      <td>0.101108</td>\n",
              "      <td>0.041447</td>\n",
              "      <td>0.304313</td>\n",
              "      <td>-2.340627</td>\n",
              "      <td>-0.939994</td>\n",
              "      <td>3.075199</td>\n",
              "      <td>0.123154</td>\n",
              "      <td>-0.104334</td>\n",
              "      <td>-0.574861</td>\n",
              "      <td>-9.784456</td>\n",
              "      <td>0.360160</td>\n",
              "      <td>16.491684</td>\n",
              "      <td>-0.450451</td>\n",
              "      <td>-0.092430</td>\n",
              "      <td>96</td>\n",
              "      <td>-134.48019</td>\n",
              "      <td>0.058759</td>\n",
              "      <td>-0.004579</td>\n",
              "      <td>9.350215</td>\n",
              "      <td>0.002149</td>\n",
              "      <td>-68.585197</td>\n",
              "      <td>4.311490</td>\n",
              "      <td>-0.225267</td>\n",
              "      <td>-0.196872</td>\n",
              "      <td>-0.059103</td>\n",
              "      <td>-0.083895</td>\n",
              "      <td>-0.720746</td>\n",
              "      <td>-8.343222</td>\n",
              "      <td>78.181598</td>\n",
              "      <td>-0.632727</td>\n",
              "      <td>1370.37895</td>\n",
              "      <td>-0.875629</td>\n",
              "      <td>-1.125819</td>\n",
              "      <td>-108.84897</td>\n",
              "      <td>0.085146</td>\n",
              "      <td>12.534340</td>\n",
              "      <td>11.290761</td>\n",
              "      <td>29.984624</td>\n",
              "      <td>10.095871</td>\n",
              "      <td>0.062801</td>\n",
              "      <td>-4.937179</td>\n",
              "      <td>-32.413266</td>\n",
              "      <td>22.760065</td>\n",
              "      <td>2.682933</td>\n",
              "      <td>0.033536</td>\n",
              "      <td>1.090502</td>\n",
              "      <td>0.006083</td>\n",
              "      <td>0</td>\n",
              "    </tr>\n",
              "    <tr>\n",
              "      <th>2</th>\n",
              "      <td>5/1/99 0:04</td>\n",
              "      <td>0</td>\n",
              "      <td>0.363848</td>\n",
              "      <td>-4.681394</td>\n",
              "      <td>-4.353147</td>\n",
              "      <td>14.127998</td>\n",
              "      <td>-0.138636</td>\n",
              "      <td>-17.836632</td>\n",
              "      <td>0.010803</td>\n",
              "      <td>-0.061114</td>\n",
              "      <td>-0.030057</td>\n",
              "      <td>-0.018352</td>\n",
              "      <td>1.004910</td>\n",
              "      <td>0.065150</td>\n",
              "      <td>-9.619596</td>\n",
              "      <td>0.101148</td>\n",
              "      <td>0.041095</td>\n",
              "      <td>0.252839</td>\n",
              "      <td>-2.353925</td>\n",
              "      <td>-0.935824</td>\n",
              "      <td>3.075199</td>\n",
              "      <td>0.123154</td>\n",
              "      <td>-0.104334</td>\n",
              "      <td>-0.579013</td>\n",
              "      <td>-9.784456</td>\n",
              "      <td>0.364356</td>\n",
              "      <td>15.972885</td>\n",
              "      <td>-0.448927</td>\n",
              "      <td>-0.097144</td>\n",
              "      <td>96</td>\n",
              "      <td>-133.94659</td>\n",
              "      <td>0.058791</td>\n",
              "      <td>-0.084658</td>\n",
              "      <td>9.037409</td>\n",
              "      <td>0.002148</td>\n",
              "      <td>-67.838187</td>\n",
              "      <td>4.809914</td>\n",
              "      <td>-0.225267</td>\n",
              "      <td>-0.186801</td>\n",
              "      <td>-0.048696</td>\n",
              "      <td>-0.073823</td>\n",
              "      <td>-0.720746</td>\n",
              "      <td>-1.085166</td>\n",
              "      <td>79.684154</td>\n",
              "      <td>-0.632727</td>\n",
              "      <td>1368.12309</td>\n",
              "      <td>-0.037775</td>\n",
              "      <td>-0.519541</td>\n",
              "      <td>-109.08658</td>\n",
              "      <td>0.085436</td>\n",
              "      <td>18.582893</td>\n",
              "      <td>11.286366</td>\n",
              "      <td>29.984624</td>\n",
              "      <td>10.100265</td>\n",
              "      <td>0.072322</td>\n",
              "      <td>-4.937924</td>\n",
              "      <td>-34.183774</td>\n",
              "      <td>27.004663</td>\n",
              "      <td>3.537487</td>\n",
              "      <td>0.033629</td>\n",
              "      <td>1.840540</td>\n",
              "      <td>0.006090</td>\n",
              "      <td>0</td>\n",
              "    </tr>\n",
              "    <tr>\n",
              "      <th>3</th>\n",
              "      <td>5/1/99 0:06</td>\n",
              "      <td>0</td>\n",
              "      <td>0.301590</td>\n",
              "      <td>-4.758934</td>\n",
              "      <td>-4.023612</td>\n",
              "      <td>13.161567</td>\n",
              "      <td>-0.148142</td>\n",
              "      <td>-18.517601</td>\n",
              "      <td>0.002075</td>\n",
              "      <td>-0.061114</td>\n",
              "      <td>-0.019986</td>\n",
              "      <td>-0.008280</td>\n",
              "      <td>0.930037</td>\n",
              "      <td>-0.067199</td>\n",
              "      <td>-15.196531</td>\n",
              "      <td>0.101188</td>\n",
              "      <td>0.040742</td>\n",
              "      <td>0.072873</td>\n",
              "      <td>-2.367223</td>\n",
              "      <td>-0.931651</td>\n",
              "      <td>3.075199</td>\n",
              "      <td>0.123154</td>\n",
              "      <td>-0.104334</td>\n",
              "      <td>-0.583165</td>\n",
              "      <td>-9.784456</td>\n",
              "      <td>0.368556</td>\n",
              "      <td>15.608688</td>\n",
              "      <td>-0.447404</td>\n",
              "      <td>-0.160073</td>\n",
              "      <td>96</td>\n",
              "      <td>-134.00259</td>\n",
              "      <td>0.058824</td>\n",
              "      <td>-0.055118</td>\n",
              "      <td>9.020625</td>\n",
              "      <td>0.002146</td>\n",
              "      <td>-67.091148</td>\n",
              "      <td>5.308343</td>\n",
              "      <td>-0.225267</td>\n",
              "      <td>-0.186801</td>\n",
              "      <td>-0.047017</td>\n",
              "      <td>-0.063752</td>\n",
              "      <td>-0.720746</td>\n",
              "      <td>6.172891</td>\n",
              "      <td>81.186702</td>\n",
              "      <td>-0.632727</td>\n",
              "      <td>1365.69145</td>\n",
              "      <td>-0.987410</td>\n",
              "      <td>0.674524</td>\n",
              "      <td>-109.56277</td>\n",
              "      <td>0.085726</td>\n",
              "      <td>17.719032</td>\n",
              "      <td>11.281972</td>\n",
              "      <td>29.984624</td>\n",
              "      <td>10.104660</td>\n",
              "      <td>0.081600</td>\n",
              "      <td>-4.938669</td>\n",
              "      <td>-35.954281</td>\n",
              "      <td>21.672449</td>\n",
              "      <td>3.986095</td>\n",
              "      <td>0.033721</td>\n",
              "      <td>2.554880</td>\n",
              "      <td>0.006097</td>\n",
              "      <td>0</td>\n",
              "    </tr>\n",
              "    <tr>\n",
              "      <th>4</th>\n",
              "      <td>5/1/99 0:08</td>\n",
              "      <td>0</td>\n",
              "      <td>0.265578</td>\n",
              "      <td>-4.749928</td>\n",
              "      <td>-4.333150</td>\n",
              "      <td>15.267340</td>\n",
              "      <td>-0.155314</td>\n",
              "      <td>-17.505913</td>\n",
              "      <td>0.000732</td>\n",
              "      <td>-0.061114</td>\n",
              "      <td>-0.030057</td>\n",
              "      <td>-0.008280</td>\n",
              "      <td>0.828410</td>\n",
              "      <td>-0.018472</td>\n",
              "      <td>-14.609266</td>\n",
              "      <td>0.101229</td>\n",
              "      <td>0.040390</td>\n",
              "      <td>0.171033</td>\n",
              "      <td>-2.380521</td>\n",
              "      <td>-0.927478</td>\n",
              "      <td>3.075199</td>\n",
              "      <td>0.123154</td>\n",
              "      <td>-0.104334</td>\n",
              "      <td>-0.587316</td>\n",
              "      <td>-9.784456</td>\n",
              "      <td>0.372756</td>\n",
              "      <td>15.606125</td>\n",
              "      <td>-0.445879</td>\n",
              "      <td>-0.131630</td>\n",
              "      <td>96</td>\n",
              "      <td>-133.14571</td>\n",
              "      <td>0.058856</td>\n",
              "      <td>-0.153851</td>\n",
              "      <td>9.344233</td>\n",
              "      <td>0.002145</td>\n",
              "      <td>-65.991813</td>\n",
              "      <td>5.806771</td>\n",
              "      <td>-0.225267</td>\n",
              "      <td>-0.186801</td>\n",
              "      <td>-0.057088</td>\n",
              "      <td>-0.063752</td>\n",
              "      <td>-0.720746</td>\n",
              "      <td>-3.379599</td>\n",
              "      <td>82.689258</td>\n",
              "      <td>-0.632727</td>\n",
              "      <td>1363.25786</td>\n",
              "      <td>-0.238445</td>\n",
              "      <td>-0.063044</td>\n",
              "      <td>-110.03891</td>\n",
              "      <td>0.086016</td>\n",
              "      <td>16.855202</td>\n",
              "      <td>11.277577</td>\n",
              "      <td>29.984624</td>\n",
              "      <td>10.109054</td>\n",
              "      <td>0.091121</td>\n",
              "      <td>-4.939414</td>\n",
              "      <td>-37.724789</td>\n",
              "      <td>21.907251</td>\n",
              "      <td>3.601573</td>\n",
              "      <td>0.033777</td>\n",
              "      <td>1.410494</td>\n",
              "      <td>0.006105</td>\n",
              "      <td>0</td>\n",
              "    </tr>\n",
              "  </tbody>\n",
              "</table>\n",
              "</div>"
            ],
            "text/plain": [
              "          time  y        x1        x2  ...       x58       x59       x60  x61\n",
              "0  5/1/99 0:00  0  0.376665 -4.596435  ...  0.033444  0.953219  0.006076    0\n",
              "1  5/1/99 0:02  0  0.475720 -4.542502  ...  0.033536  1.090502  0.006083    0\n",
              "2  5/1/99 0:04  0  0.363848 -4.681394  ...  0.033629  1.840540  0.006090    0\n",
              "3  5/1/99 0:06  0  0.301590 -4.758934  ...  0.033721  2.554880  0.006097    0\n",
              "4  5/1/99 0:08  0  0.265578 -4.749928  ...  0.033777  1.410494  0.006105    0\n",
              "\n",
              "[5 rows x 63 columns]"
            ]
          },
          "metadata": {
            "tags": []
          },
          "execution_count": 6
        }
      ]
    },
    {
      "cell_type": "markdown",
      "metadata": {
        "id": "E1l1ZoLSrunq",
        "colab_type": "text"
      },
      "source": [
        "To predict 4 minutes in advance , we need to shift the labels 2 rows up when a positively labeled data is encountered.  \n",
        "\n",
        "This function will shift the binary labels in a dataframe.\n",
        "The curve shift will be with respect to the 1s. \n",
        "For example, if shift is -2, the following process\n",
        "will happen: if row n is labeled as 1, then\n",
        "- Make row (n+shift_by):(n+shift_by-1) = 1.\n",
        "- Remove row n.\n",
        "i.e. the labels will be shifted up to 2 rows up.\n",
        "\n",
        "Inputs:\n",
        "df       A pandas dataframe with a binary labeled column. \n",
        "         This labeled column should be named as 'y'.\n",
        "shift_by An integer denoting the number of rows to shift.\n",
        "\n",
        "Output\n",
        "df       A dataframe with the binary labels shifted by shift.\n",
        "\n"
      ]
    },
    {
      "cell_type": "code",
      "metadata": {
        "id": "IlaaDmBBtAuN",
        "colab_type": "code",
        "colab": {}
      },
      "source": [
        "## To build this model, we will shift the labels 2 rows up (which corresponds to 4 minutes). \n",
        "\n",
        "sign = lambda x: (1, -1)[x < 0]\n",
        "\n",
        "def curve_shift(df, shift_by):\n",
        "    \n",
        "\n",
        "    vector = df['y'].copy()\n",
        "    for s in range(abs(shift_by)):\n",
        "        tmp = vector.shift(sign(shift_by))\n",
        "        tmp = tmp.fillna(0)\n",
        "        vector += tmp\n",
        "    labelcol = 'y'\n",
        "    # Add vector to the df\n",
        "    df.insert(loc=0, column=labelcol+'tmp', value=vector)\n",
        "    # Remove the rows with labelcol == 1.\n",
        "    df = df.drop(df[df[labelcol] == 1].index)\n",
        "    # Drop labelcol and rename the tmp col as labelcol\n",
        "    df = df.drop(labelcol, axis=1)\n",
        "    df = df.rename(columns={labelcol+'tmp': labelcol})\n",
        "    # Make the labelcol binary\n",
        "    df.loc[df[labelcol] > 0, labelcol] = 1\n",
        "\n",
        "    return df\n",
        "      \n",
        "    \n",
        "new_data = curve_shift(data,-2)"
      ],
      "execution_count": 0,
      "outputs": []
    },
    {
      "cell_type": "markdown",
      "metadata": {
        "id": "_UbuogLF7dhn",
        "colab_type": "text"
      },
      "source": [
        "### **Train_test_split**"
      ]
    },
    {
      "cell_type": "code",
      "metadata": {
        "id": "11Szf51o5LJ5",
        "colab_type": "code",
        "colab": {}
      },
      "source": [
        "# Remove time column, and the categorical columns\n",
        "\n",
        "new_data = new_data.drop(['time', 'x28', 'x61'], axis=1)\n",
        "\n",
        "train, test = train_test_split(new_data, test_size=0.2, random_state=SEED)\n",
        "\n",
        "train, val = train_test_split(train, test_size=0.2, random_state=SEED)\n",
        "\n",
        "X_train_0 = train[train['y']==0].drop(['y'], axis = 1)\n",
        "X_train = train.drop(['y'], axis = 1)\n",
        "\n",
        "X_test_0 = test[test['y']==0].drop(['y'], axis =1)\n",
        "X_test = test.drop(['y'], axis = 1)\n",
        "\n",
        "\n",
        "X_val_0 = val[val['y']==0].drop(['y'], axis =1)\n",
        "X_val = val.drop(['y'], axis = 1)\n",
        "\n",
        "\n",
        "y_train_0 = train[train['y']==0]['y']\n",
        "\n",
        "y_test_0 = test[test['y']==0]['y']\n",
        "\n",
        "y_val_0 = val[val['y']==0]['y']\n",
        "\n"
      ],
      "execution_count": 0,
      "outputs": []
    },
    {
      "cell_type": "markdown",
      "metadata": {
        "id": "WCBDrqZy9zqG",
        "colab_type": "text"
      },
      "source": [
        "### **Standardization**"
      ]
    },
    {
      "cell_type": "markdown",
      "metadata": {
        "id": "1Uldg-bwy2ff",
        "colab_type": "text"
      },
      "source": [
        "Standardize all the continous variables . The  Standardization is fitted on Train and transformed on Train, Validation and Test"
      ]
    },
    {
      "cell_type": "code",
      "metadata": {
        "id": "ajFvVtkJ96gK",
        "colab_type": "code",
        "colab": {}
      },
      "source": [
        "scaler = StandardScaler().fit(X_train_0)\n",
        "\n",
        "X_train_0_rescaled = scaler.transform(X_train_0)\n",
        "X_test_0_rescaled = scaler.transform(X_test_0)\n",
        "X_val_0_rescaled = scaler.transform(X_val_0)\n",
        "\n",
        "X_val_rescaled = scaler.transform(X_val)\n",
        "\n",
        "X_test_rescaled = scaler.transform(X_test)\n"
      ],
      "execution_count": 0,
      "outputs": []
    },
    {
      "cell_type": "markdown",
      "metadata": {
        "id": "TCeI3w4e_VG-",
        "colab_type": "text"
      },
      "source": [
        "## **AutoEncoder Classifier**"
      ]
    },
    {
      "cell_type": "markdown",
      "metadata": {
        "id": "7NlJYHI2zMRe",
        "colab_type": "text"
      },
      "source": [
        "Train an autoencoder with 5 Dense layers and one input layer"
      ]
    },
    {
      "cell_type": "code",
      "metadata": {
        "id": "udvzLtFZ_N88",
        "colab_type": "code",
        "outputId": "eee471a8-1230-486a-a52e-21d965a22213",
        "colab": {
          "base_uri": "https://localhost:8080/",
          "height": 479
        }
      },
      "source": [
        "nb_epoch = 200\n",
        "batch_size = 128\n",
        "input_dim = X_train_0.shape[1] #num of predictor variables, \n",
        "encoding_dim = 32\n",
        "hidden_dim = int(encoding_dim / 2)\n",
        "learning_rate = 1e-3\n",
        "\n",
        "input_layer = Input(shape=(input_dim, ))\n",
        "encoder = Dense(encoding_dim, activation=\"relu\", \n",
        "                activity_regularizer=regularizers.l1(learning_rate))(input_layer)\n",
        "encoder = Dense(hidden_dim, activation=\"relu\")(encoder)\n",
        "decoder = Dense(hidden_dim, activation=\"relu\")(encoder)\n",
        "decoder = Dense(encoding_dim, activation=\"relu\")(decoder)\n",
        "decoder = Dense(input_dim, activation=\"linear\")(decoder)\n",
        "autoencoder = Model(inputs=input_layer, outputs=decoder)\n",
        "autoencoder.summary()"
      ],
      "execution_count": 10,
      "outputs": [
        {
          "output_type": "stream",
          "text": [
            "WARNING: Logging before flag parsing goes to stderr.\n",
            "W0617 14:33:56.169156 140084437407616 deprecation_wrapper.py:119] From /usr/local/lib/python3.6/dist-packages/keras/backend/tensorflow_backend.py:74: The name tf.get_default_graph is deprecated. Please use tf.compat.v1.get_default_graph instead.\n",
            "\n",
            "W0617 14:33:56.171145 140084437407616 deprecation_wrapper.py:119] From /usr/local/lib/python3.6/dist-packages/keras/backend/tensorflow_backend.py:517: The name tf.placeholder is deprecated. Please use tf.compat.v1.placeholder instead.\n",
            "\n",
            "W0617 14:33:56.186853 140084437407616 deprecation_wrapper.py:119] From /usr/local/lib/python3.6/dist-packages/keras/backend/tensorflow_backend.py:4138: The name tf.random_uniform is deprecated. Please use tf.random.uniform instead.\n",
            "\n"
          ],
          "name": "stderr"
        },
        {
          "output_type": "stream",
          "text": [
            "_________________________________________________________________\n",
            "Layer (type)                 Output Shape              Param #   \n",
            "=================================================================\n",
            "input_1 (InputLayer)         (None, 59)                0         \n",
            "_________________________________________________________________\n",
            "dense_1 (Dense)              (None, 32)                1920      \n",
            "_________________________________________________________________\n",
            "dense_2 (Dense)              (None, 16)                528       \n",
            "_________________________________________________________________\n",
            "dense_3 (Dense)              (None, 16)                272       \n",
            "_________________________________________________________________\n",
            "dense_4 (Dense)              (None, 32)                544       \n",
            "_________________________________________________________________\n",
            "dense_5 (Dense)              (None, 59)                1947      \n",
            "=================================================================\n",
            "Total params: 5,211\n",
            "Trainable params: 5,211\n",
            "Non-trainable params: 0\n",
            "_________________________________________________________________\n"
          ],
          "name": "stdout"
        }
      ]
    },
    {
      "cell_type": "markdown",
      "metadata": {
        "id": "6dPB8NEuzT44",
        "colab_type": "text"
      },
      "source": [
        "## **Fit The AutoEncoder**"
      ]
    },
    {
      "cell_type": "markdown",
      "metadata": {
        "id": "46SI2cPtzYPf",
        "colab_type": "text"
      },
      "source": [
        "Compile the autoencoder with loss = 'mean_squared_error' and optimizer ='adam ' (These can be tweaked)\n",
        "And fit the autoencoder on train with validation on Validation data"
      ]
    },
    {
      "cell_type": "code",
      "metadata": {
        "id": "3G9lI0EADKl3",
        "colab_type": "code",
        "outputId": "2ce33645-99fe-4058-da91-02fa49c1663f",
        "colab": {
          "base_uri": "https://localhost:8080/",
          "height": 7024
        }
      },
      "source": [
        "autoencoder.compile(metrics=['accuracy'],\n",
        "                    loss='mean_squared_error',\n",
        "                    optimizer='adam')\n",
        "cp = ModelCheckpoint(filepath=\"autoencoder_classifier.h5\",\n",
        "                               save_best_only=True,\n",
        "                               verbose=0)\n",
        "tb = TensorBoard(log_dir='./logs',\n",
        "                histogram_freq=0,\n",
        "                write_graph=True,\n",
        "                write_images=True)\n",
        "history = autoencoder.fit(X_train_0_rescaled, X_train_0_rescaled,\n",
        "                    epochs=nb_epoch,\n",
        "                    batch_size=batch_size,\n",
        "                    shuffle=True,\n",
        "                    validation_data=(X_val_0_rescaled, X_val_0_rescaled),\n",
        "                    verbose=1,\n",
        "                    callbacks=[cp, tb]).history\n",
        "\n",
        "\n"
      ],
      "execution_count": 11,
      "outputs": [
        {
          "output_type": "stream",
          "text": [
            "W0617 14:33:56.295239 140084437407616 deprecation_wrapper.py:119] From /usr/local/lib/python3.6/dist-packages/keras/optimizers.py:790: The name tf.train.Optimizer is deprecated. Please use tf.compat.v1.train.Optimizer instead.\n",
            "\n",
            "W0617 14:33:58.112580 140084437407616 deprecation_wrapper.py:119] From /usr/local/lib/python3.6/dist-packages/keras/backend/tensorflow_backend.py:986: The name tf.assign_add is deprecated. Please use tf.compat.v1.assign_add instead.\n",
            "\n",
            "W0617 14:33:58.392510 140084437407616 deprecation_wrapper.py:119] From /usr/local/lib/python3.6/dist-packages/keras/backend/tensorflow_backend.py:973: The name tf.assign is deprecated. Please use tf.compat.v1.assign instead.\n",
            "\n"
          ],
          "name": "stderr"
        },
        {
          "output_type": "stream",
          "text": [
            "Train on 11541 samples, validate on 2883 samples\n"
          ],
          "name": "stdout"
        },
        {
          "output_type": "stream",
          "text": [
            "W0617 14:33:58.872139 140084437407616 deprecation_wrapper.py:119] From /usr/local/lib/python3.6/dist-packages/keras/callbacks.py:850: The name tf.summary.merge_all is deprecated. Please use tf.compat.v1.summary.merge_all instead.\n",
            "\n",
            "W0617 14:33:58.873423 140084437407616 deprecation_wrapper.py:119] From /usr/local/lib/python3.6/dist-packages/keras/callbacks.py:853: The name tf.summary.FileWriter is deprecated. Please use tf.compat.v1.summary.FileWriter instead.\n",
            "\n"
          ],
          "name": "stderr"
        },
        {
          "output_type": "stream",
          "text": [
            "Epoch 1/200\n",
            "11541/11541 [==============================] - 1s 50us/step - loss: 2.1000 - acc: 0.0428 - val_loss: 1.5192 - val_acc: 0.0451\n",
            "Epoch 2/200\n",
            "11541/11541 [==============================] - 0s 16us/step - loss: 1.1812 - acc: 0.0457 - val_loss: 0.9218 - val_acc: 0.0624\n",
            "Epoch 3/200\n",
            "11541/11541 [==============================] - 0s 17us/step - loss: 0.7968 - acc: 0.0705 - val_loss: 0.7156 - val_acc: 0.1145\n",
            "Epoch 4/200\n",
            "11541/11541 [==============================] - 0s 16us/step - loss: 0.6638 - acc: 0.1236 - val_loss: 0.6318 - val_acc: 0.1259\n",
            "Epoch 5/200\n",
            "11541/11541 [==============================] - 0s 16us/step - loss: 0.5940 - acc: 0.1397 - val_loss: 0.5733 - val_acc: 0.1283\n",
            "Epoch 6/200\n",
            "11541/11541 [==============================] - 0s 16us/step - loss: 0.5425 - acc: 0.1470 - val_loss: 0.5279 - val_acc: 0.1530\n",
            "Epoch 7/200\n",
            "11541/11541 [==============================] - 0s 16us/step - loss: 0.5038 - acc: 0.1528 - val_loss: 0.4959 - val_acc: 0.1592\n",
            "Epoch 8/200\n",
            "11541/11541 [==============================] - 0s 16us/step - loss: 0.4764 - acc: 0.1608 - val_loss: 0.4707 - val_acc: 0.1609\n",
            "Epoch 9/200\n",
            "11541/11541 [==============================] - 0s 16us/step - loss: 0.4551 - acc: 0.1697 - val_loss: 0.4529 - val_acc: 0.1700\n",
            "Epoch 10/200\n",
            "11541/11541 [==============================] - 0s 15us/step - loss: 0.4374 - acc: 0.1794 - val_loss: 0.4353 - val_acc: 0.1988\n",
            "Epoch 11/200\n",
            "11541/11541 [==============================] - 0s 16us/step - loss: 0.4210 - acc: 0.1971 - val_loss: 0.4204 - val_acc: 0.2092\n",
            "Epoch 12/200\n",
            "11541/11541 [==============================] - 0s 16us/step - loss: 0.4069 - acc: 0.2079 - val_loss: 0.4066 - val_acc: 0.2057\n",
            "Epoch 13/200\n",
            "11541/11541 [==============================] - 0s 16us/step - loss: 0.3936 - acc: 0.2333 - val_loss: 0.3945 - val_acc: 0.2418\n",
            "Epoch 14/200\n",
            "11541/11541 [==============================] - 0s 16us/step - loss: 0.3822 - acc: 0.2494 - val_loss: 0.3812 - val_acc: 0.2449\n",
            "Epoch 15/200\n",
            "11541/11541 [==============================] - 0s 16us/step - loss: 0.3717 - acc: 0.2514 - val_loss: 0.3729 - val_acc: 0.2421\n",
            "Epoch 16/200\n",
            "11541/11541 [==============================] - 0s 16us/step - loss: 0.3651 - acc: 0.2508 - val_loss: 0.3641 - val_acc: 0.2484\n",
            "Epoch 17/200\n",
            "11541/11541 [==============================] - 0s 16us/step - loss: 0.3550 - acc: 0.2598 - val_loss: 0.3570 - val_acc: 0.2518\n",
            "Epoch 18/200\n",
            "11541/11541 [==============================] - 0s 16us/step - loss: 0.3486 - acc: 0.2636 - val_loss: 0.3505 - val_acc: 0.2657\n",
            "Epoch 19/200\n",
            "11541/11541 [==============================] - 0s 16us/step - loss: 0.3406 - acc: 0.2709 - val_loss: 0.3455 - val_acc: 0.2917\n",
            "Epoch 20/200\n",
            "11541/11541 [==============================] - 0s 16us/step - loss: 0.3353 - acc: 0.2742 - val_loss: 0.3428 - val_acc: 0.2771\n",
            "Epoch 21/200\n",
            "11541/11541 [==============================] - 0s 17us/step - loss: 0.3316 - acc: 0.2809 - val_loss: 0.3370 - val_acc: 0.2771\n",
            "Epoch 22/200\n",
            "11541/11541 [==============================] - 0s 16us/step - loss: 0.3277 - acc: 0.2820 - val_loss: 0.3299 - val_acc: 0.3039\n",
            "Epoch 23/200\n",
            "11541/11541 [==============================] - 0s 16us/step - loss: 0.3218 - acc: 0.2891 - val_loss: 0.3241 - val_acc: 0.2921\n",
            "Epoch 24/200\n",
            "11541/11541 [==============================] - 0s 17us/step - loss: 0.3176 - acc: 0.2965 - val_loss: 0.3240 - val_acc: 0.3056\n",
            "Epoch 25/200\n",
            "11541/11541 [==============================] - 0s 16us/step - loss: 0.3152 - acc: 0.3008 - val_loss: 0.3181 - val_acc: 0.2976\n",
            "Epoch 26/200\n",
            "11541/11541 [==============================] - 0s 16us/step - loss: 0.3116 - acc: 0.3009 - val_loss: 0.3155 - val_acc: 0.3205\n",
            "Epoch 27/200\n",
            "11541/11541 [==============================] - 0s 16us/step - loss: 0.3095 - acc: 0.3034 - val_loss: 0.3127 - val_acc: 0.3028\n",
            "Epoch 28/200\n",
            "11541/11541 [==============================] - 0s 16us/step - loss: 0.3060 - acc: 0.3094 - val_loss: 0.3112 - val_acc: 0.3215\n",
            "Epoch 29/200\n",
            "11541/11541 [==============================] - 0s 16us/step - loss: 0.3029 - acc: 0.3116 - val_loss: 0.3085 - val_acc: 0.3191\n",
            "Epoch 30/200\n",
            "11541/11541 [==============================] - 0s 15us/step - loss: 0.2995 - acc: 0.3143 - val_loss: 0.3054 - val_acc: 0.3396\n",
            "Epoch 31/200\n",
            "11541/11541 [==============================] - 0s 16us/step - loss: 0.3035 - acc: 0.3134 - val_loss: 0.3015 - val_acc: 0.3198\n",
            "Epoch 32/200\n",
            "11541/11541 [==============================] - 0s 16us/step - loss: 0.2936 - acc: 0.3243 - val_loss: 0.2961 - val_acc: 0.3240\n",
            "Epoch 33/200\n",
            "11541/11541 [==============================] - 0s 16us/step - loss: 0.2920 - acc: 0.3294 - val_loss: 0.2957 - val_acc: 0.3413\n",
            "Epoch 34/200\n",
            "11541/11541 [==============================] - 0s 17us/step - loss: 0.2892 - acc: 0.3286 - val_loss: 0.2940 - val_acc: 0.3507\n",
            "Epoch 35/200\n",
            "11541/11541 [==============================] - 0s 17us/step - loss: 0.2863 - acc: 0.3355 - val_loss: 0.2899 - val_acc: 0.3486\n",
            "Epoch 36/200\n",
            "11541/11541 [==============================] - 0s 16us/step - loss: 0.2844 - acc: 0.3404 - val_loss: 0.2895 - val_acc: 0.3444\n",
            "Epoch 37/200\n",
            "11541/11541 [==============================] - 0s 16us/step - loss: 0.2818 - acc: 0.3476 - val_loss: 0.2884 - val_acc: 0.3469\n",
            "Epoch 38/200\n",
            "11541/11541 [==============================] - 0s 18us/step - loss: 0.2803 - acc: 0.3540 - val_loss: 0.2845 - val_acc: 0.3566\n",
            "Epoch 39/200\n",
            "11541/11541 [==============================] - 0s 16us/step - loss: 0.2769 - acc: 0.3630 - val_loss: 0.2801 - val_acc: 0.3798\n",
            "Epoch 40/200\n",
            "11541/11541 [==============================] - 0s 17us/step - loss: 0.2747 - acc: 0.3692 - val_loss: 0.2802 - val_acc: 0.3708\n",
            "Epoch 41/200\n",
            "11541/11541 [==============================] - 0s 16us/step - loss: 0.2758 - acc: 0.3721 - val_loss: 0.2810 - val_acc: 0.3836\n",
            "Epoch 42/200\n",
            "11541/11541 [==============================] - 0s 17us/step - loss: 0.2722 - acc: 0.3869 - val_loss: 0.2743 - val_acc: 0.3809\n",
            "Epoch 43/200\n",
            "11541/11541 [==============================] - 0s 16us/step - loss: 0.2679 - acc: 0.3888 - val_loss: 0.2724 - val_acc: 0.3656\n",
            "Epoch 44/200\n",
            "11541/11541 [==============================] - 0s 18us/step - loss: 0.2670 - acc: 0.3968 - val_loss: 0.2707 - val_acc: 0.4006\n",
            "Epoch 45/200\n",
            "11541/11541 [==============================] - 0s 16us/step - loss: 0.2659 - acc: 0.3972 - val_loss: 0.2710 - val_acc: 0.3944\n",
            "Epoch 46/200\n",
            "11541/11541 [==============================] - 0s 17us/step - loss: 0.2639 - acc: 0.3981 - val_loss: 0.2669 - val_acc: 0.4044\n",
            "Epoch 47/200\n",
            "11541/11541 [==============================] - 0s 16us/step - loss: 0.2614 - acc: 0.4016 - val_loss: 0.2660 - val_acc: 0.3968\n",
            "Epoch 48/200\n",
            "11541/11541 [==============================] - 0s 16us/step - loss: 0.2613 - acc: 0.3980 - val_loss: 0.2659 - val_acc: 0.3899\n",
            "Epoch 49/200\n",
            "11541/11541 [==============================] - 0s 16us/step - loss: 0.2612 - acc: 0.3998 - val_loss: 0.2646 - val_acc: 0.3937\n",
            "Epoch 50/200\n",
            "11541/11541 [==============================] - 0s 16us/step - loss: 0.2591 - acc: 0.3999 - val_loss: 0.2650 - val_acc: 0.3961\n",
            "Epoch 51/200\n",
            "11541/11541 [==============================] - 0s 17us/step - loss: 0.2649 - acc: 0.3965 - val_loss: 0.2609 - val_acc: 0.3961\n",
            "Epoch 52/200\n",
            "11541/11541 [==============================] - 0s 16us/step - loss: 0.2553 - acc: 0.3966 - val_loss: 0.2559 - val_acc: 0.4062\n",
            "Epoch 53/200\n",
            "11541/11541 [==============================] - 0s 16us/step - loss: 0.2525 - acc: 0.3977 - val_loss: 0.2562 - val_acc: 0.4020\n",
            "Epoch 54/200\n",
            "11541/11541 [==============================] - 0s 16us/step - loss: 0.2518 - acc: 0.4030 - val_loss: 0.2542 - val_acc: 0.4034\n",
            "Epoch 55/200\n",
            "11541/11541 [==============================] - 0s 16us/step - loss: 0.2511 - acc: 0.4026 - val_loss: 0.2538 - val_acc: 0.3999\n",
            "Epoch 56/200\n",
            "11541/11541 [==============================] - 0s 16us/step - loss: 0.2508 - acc: 0.4003 - val_loss: 0.2539 - val_acc: 0.4044\n",
            "Epoch 57/200\n",
            "11541/11541 [==============================] - 0s 17us/step - loss: 0.2501 - acc: 0.4001 - val_loss: 0.2511 - val_acc: 0.3954\n",
            "Epoch 58/200\n",
            "11541/11541 [==============================] - 0s 16us/step - loss: 0.2494 - acc: 0.3999 - val_loss: 0.2555 - val_acc: 0.3965\n",
            "Epoch 59/200\n",
            "11541/11541 [==============================] - 0s 17us/step - loss: 0.2463 - acc: 0.3975 - val_loss: 0.2497 - val_acc: 0.4096\n",
            "Epoch 60/200\n",
            "11541/11541 [==============================] - 0s 17us/step - loss: 0.2449 - acc: 0.4027 - val_loss: 0.2496 - val_acc: 0.3944\n",
            "Epoch 61/200\n",
            "11541/11541 [==============================] - 0s 17us/step - loss: 0.2452 - acc: 0.3967 - val_loss: 0.2488 - val_acc: 0.4114\n",
            "Epoch 62/200\n",
            "11541/11541 [==============================] - 0s 16us/step - loss: 0.2429 - acc: 0.3957 - val_loss: 0.2496 - val_acc: 0.4048\n",
            "Epoch 63/200\n",
            "11541/11541 [==============================] - 0s 17us/step - loss: 0.2446 - acc: 0.3958 - val_loss: 0.2472 - val_acc: 0.4003\n",
            "Epoch 64/200\n",
            "11541/11541 [==============================] - 0s 16us/step - loss: 0.2429 - acc: 0.3974 - val_loss: 0.2452 - val_acc: 0.4096\n",
            "Epoch 65/200\n",
            "11541/11541 [==============================] - 0s 16us/step - loss: 0.2413 - acc: 0.3962 - val_loss: 0.2437 - val_acc: 0.3874\n",
            "Epoch 66/200\n",
            "11541/11541 [==============================] - 0s 17us/step - loss: 0.2494 - acc: 0.3965 - val_loss: 0.2466 - val_acc: 0.3906\n",
            "Epoch 67/200\n",
            "11541/11541 [==============================] - 0s 16us/step - loss: 0.2404 - acc: 0.3994 - val_loss: 0.2430 - val_acc: 0.3999\n",
            "Epoch 68/200\n",
            "11541/11541 [==============================] - 0s 16us/step - loss: 0.2382 - acc: 0.4003 - val_loss: 0.2434 - val_acc: 0.4020\n",
            "Epoch 69/200\n",
            "11541/11541 [==============================] - 0s 17us/step - loss: 0.2366 - acc: 0.3999 - val_loss: 0.2394 - val_acc: 0.3992\n",
            "Epoch 70/200\n",
            "11541/11541 [==============================] - 0s 17us/step - loss: 0.2540 - acc: 0.3981 - val_loss: 0.2569 - val_acc: 0.3826\n",
            "Epoch 71/200\n",
            "11541/11541 [==============================] - 0s 16us/step - loss: 0.2397 - acc: 0.3987 - val_loss: 0.2409 - val_acc: 0.3916\n",
            "Epoch 72/200\n",
            "11541/11541 [==============================] - 0s 17us/step - loss: 0.2355 - acc: 0.4015 - val_loss: 0.2370 - val_acc: 0.4024\n",
            "Epoch 73/200\n",
            "11541/11541 [==============================] - 0s 17us/step - loss: 0.2345 - acc: 0.4018 - val_loss: 0.2405 - val_acc: 0.4024\n",
            "Epoch 74/200\n",
            "11541/11541 [==============================] - 0s 17us/step - loss: 0.2362 - acc: 0.3988 - val_loss: 0.2421 - val_acc: 0.3937\n",
            "Epoch 75/200\n",
            "11541/11541 [==============================] - 0s 17us/step - loss: 0.2367 - acc: 0.4062 - val_loss: 0.2394 - val_acc: 0.3951\n",
            "Epoch 76/200\n",
            "11541/11541 [==============================] - 0s 17us/step - loss: 0.2341 - acc: 0.4062 - val_loss: 0.2385 - val_acc: 0.4041\n",
            "Epoch 77/200\n",
            "11541/11541 [==============================] - 0s 17us/step - loss: 0.2350 - acc: 0.4042 - val_loss: 0.2386 - val_acc: 0.4051\n",
            "Epoch 78/200\n",
            "11541/11541 [==============================] - 0s 17us/step - loss: 0.2324 - acc: 0.4076 - val_loss: 0.2457 - val_acc: 0.3985\n",
            "Epoch 79/200\n",
            "11541/11541 [==============================] - 0s 17us/step - loss: 0.2375 - acc: 0.4037 - val_loss: 0.2385 - val_acc: 0.4176\n",
            "Epoch 80/200\n",
            "11541/11541 [==============================] - 0s 17us/step - loss: 0.2324 - acc: 0.4078 - val_loss: 0.2332 - val_acc: 0.4024\n",
            "Epoch 81/200\n",
            "11541/11541 [==============================] - 0s 16us/step - loss: 0.2298 - acc: 0.4144 - val_loss: 0.2338 - val_acc: 0.4135\n",
            "Epoch 82/200\n",
            "11541/11541 [==============================] - 0s 16us/step - loss: 0.2292 - acc: 0.4108 - val_loss: 0.2341 - val_acc: 0.4270\n",
            "Epoch 83/200\n",
            "11541/11541 [==============================] - 0s 16us/step - loss: 0.2314 - acc: 0.4124 - val_loss: 0.2345 - val_acc: 0.4048\n",
            "Epoch 84/200\n",
            "11541/11541 [==============================] - 0s 16us/step - loss: 0.2304 - acc: 0.4140 - val_loss: 0.2368 - val_acc: 0.4173\n",
            "Epoch 85/200\n",
            "11541/11541 [==============================] - 0s 16us/step - loss: 0.2298 - acc: 0.4176 - val_loss: 0.2344 - val_acc: 0.4083\n",
            "Epoch 86/200\n",
            "11541/11541 [==============================] - 0s 17us/step - loss: 0.2284 - acc: 0.4161 - val_loss: 0.2332 - val_acc: 0.4159\n",
            "Epoch 87/200\n",
            "11541/11541 [==============================] - 0s 16us/step - loss: 0.2290 - acc: 0.4149 - val_loss: 0.2308 - val_acc: 0.4266\n",
            "Epoch 88/200\n",
            "11541/11541 [==============================] - 0s 16us/step - loss: 0.2267 - acc: 0.4183 - val_loss: 0.2341 - val_acc: 0.4131\n",
            "Epoch 89/200\n",
            "11541/11541 [==============================] - 0s 16us/step - loss: 0.2284 - acc: 0.4169 - val_loss: 0.2345 - val_acc: 0.4114\n",
            "Epoch 90/200\n",
            "11541/11541 [==============================] - 0s 16us/step - loss: 0.2319 - acc: 0.4204 - val_loss: 0.2348 - val_acc: 0.4291\n",
            "Epoch 91/200\n",
            "11541/11541 [==============================] - 0s 16us/step - loss: 0.2275 - acc: 0.4219 - val_loss: 0.2312 - val_acc: 0.4246\n",
            "Epoch 92/200\n",
            "11541/11541 [==============================] - 0s 17us/step - loss: 0.2253 - acc: 0.4263 - val_loss: 0.2283 - val_acc: 0.4374\n",
            "Epoch 93/200\n",
            "11541/11541 [==============================] - 0s 17us/step - loss: 0.2254 - acc: 0.4280 - val_loss: 0.2316 - val_acc: 0.4266\n",
            "Epoch 94/200\n",
            "11541/11541 [==============================] - 0s 16us/step - loss: 0.2288 - acc: 0.4301 - val_loss: 0.2349 - val_acc: 0.4253\n",
            "Epoch 95/200\n",
            "11541/11541 [==============================] - 0s 17us/step - loss: 0.2250 - acc: 0.4264 - val_loss: 0.2299 - val_acc: 0.4079\n",
            "Epoch 96/200\n",
            "11541/11541 [==============================] - 0s 16us/step - loss: 0.2249 - acc: 0.4276 - val_loss: 0.2266 - val_acc: 0.4256\n",
            "Epoch 97/200\n",
            "11541/11541 [==============================] - 0s 16us/step - loss: 0.2225 - acc: 0.4316 - val_loss: 0.2246 - val_acc: 0.4232\n",
            "Epoch 98/200\n",
            "11541/11541 [==============================] - 0s 17us/step - loss: 0.2238 - acc: 0.4306 - val_loss: 0.2335 - val_acc: 0.3982\n",
            "Epoch 99/200\n",
            "11541/11541 [==============================] - 0s 16us/step - loss: 0.2252 - acc: 0.4277 - val_loss: 0.2268 - val_acc: 0.4409\n",
            "Epoch 100/200\n",
            "11541/11541 [==============================] - 0s 17us/step - loss: 0.2228 - acc: 0.4338 - val_loss: 0.2257 - val_acc: 0.4513\n",
            "Epoch 101/200\n",
            "11541/11541 [==============================] - 0s 16us/step - loss: 0.2215 - acc: 0.4297 - val_loss: 0.2239 - val_acc: 0.4450\n",
            "Epoch 102/200\n",
            "11541/11541 [==============================] - 0s 17us/step - loss: 0.2225 - acc: 0.4373 - val_loss: 0.2253 - val_acc: 0.4287\n",
            "Epoch 103/200\n",
            "11541/11541 [==============================] - 0s 17us/step - loss: 0.2209 - acc: 0.4354 - val_loss: 0.2249 - val_acc: 0.4481\n",
            "Epoch 104/200\n",
            "11541/11541 [==============================] - 0s 16us/step - loss: 0.2215 - acc: 0.4350 - val_loss: 0.2277 - val_acc: 0.4544\n",
            "Epoch 105/200\n",
            "11541/11541 [==============================] - 0s 16us/step - loss: 0.2255 - acc: 0.4399 - val_loss: 0.2278 - val_acc: 0.4318\n",
            "Epoch 106/200\n",
            "11541/11541 [==============================] - 0s 17us/step - loss: 0.2264 - acc: 0.4403 - val_loss: 0.2278 - val_acc: 0.4398\n",
            "Epoch 107/200\n",
            "11541/11541 [==============================] - 0s 17us/step - loss: 0.2224 - acc: 0.4367 - val_loss: 0.2234 - val_acc: 0.4204\n",
            "Epoch 108/200\n",
            "11541/11541 [==============================] - 0s 17us/step - loss: 0.2199 - acc: 0.4452 - val_loss: 0.2232 - val_acc: 0.4468\n",
            "Epoch 109/200\n",
            "11541/11541 [==============================] - 0s 16us/step - loss: 0.2195 - acc: 0.4440 - val_loss: 0.2227 - val_acc: 0.4291\n",
            "Epoch 110/200\n",
            "11541/11541 [==============================] - 0s 17us/step - loss: 0.2184 - acc: 0.4422 - val_loss: 0.2249 - val_acc: 0.4481\n",
            "Epoch 111/200\n",
            "11541/11541 [==============================] - 0s 16us/step - loss: 0.2235 - acc: 0.4427 - val_loss: 0.2281 - val_acc: 0.4318\n",
            "Epoch 112/200\n",
            "11541/11541 [==============================] - 0s 16us/step - loss: 0.2205 - acc: 0.4456 - val_loss: 0.2226 - val_acc: 0.4416\n",
            "Epoch 113/200\n",
            "11541/11541 [==============================] - 0s 16us/step - loss: 0.2186 - acc: 0.4418 - val_loss: 0.2253 - val_acc: 0.4194\n",
            "Epoch 114/200\n",
            "11541/11541 [==============================] - 0s 16us/step - loss: 0.2199 - acc: 0.4436 - val_loss: 0.2206 - val_acc: 0.4533\n",
            "Epoch 115/200\n",
            "11541/11541 [==============================] - 0s 16us/step - loss: 0.2188 - acc: 0.4451 - val_loss: 0.2235 - val_acc: 0.4256\n",
            "Epoch 116/200\n",
            "11541/11541 [==============================] - 0s 16us/step - loss: 0.2196 - acc: 0.4419 - val_loss: 0.2235 - val_acc: 0.4384\n",
            "Epoch 117/200\n",
            "11541/11541 [==============================] - 0s 16us/step - loss: 0.2206 - acc: 0.4434 - val_loss: 0.2229 - val_acc: 0.4391\n",
            "Epoch 118/200\n",
            "11541/11541 [==============================] - 0s 16us/step - loss: 0.2184 - acc: 0.4438 - val_loss: 0.2216 - val_acc: 0.4294\n",
            "Epoch 119/200\n",
            "11541/11541 [==============================] - 0s 16us/step - loss: 0.2179 - acc: 0.4445 - val_loss: 0.2239 - val_acc: 0.4391\n",
            "Epoch 120/200\n",
            "11541/11541 [==============================] - 0s 16us/step - loss: 0.2177 - acc: 0.4487 - val_loss: 0.2215 - val_acc: 0.4329\n",
            "Epoch 121/200\n",
            "11541/11541 [==============================] - 0s 17us/step - loss: 0.2176 - acc: 0.4500 - val_loss: 0.2214 - val_acc: 0.4391\n",
            "Epoch 122/200\n",
            "11541/11541 [==============================] - 0s 16us/step - loss: 0.2161 - acc: 0.4460 - val_loss: 0.2227 - val_acc: 0.4402\n",
            "Epoch 123/200\n",
            "11541/11541 [==============================] - 0s 17us/step - loss: 0.2166 - acc: 0.4528 - val_loss: 0.2188 - val_acc: 0.4204\n",
            "Epoch 124/200\n",
            "11541/11541 [==============================] - 0s 16us/step - loss: 0.2177 - acc: 0.4499 - val_loss: 0.2185 - val_acc: 0.4440\n",
            "Epoch 125/200\n",
            "11541/11541 [==============================] - 0s 16us/step - loss: 0.2160 - acc: 0.4441 - val_loss: 0.2193 - val_acc: 0.4197\n",
            "Epoch 126/200\n",
            "11541/11541 [==============================] - 0s 16us/step - loss: 0.2169 - acc: 0.4528 - val_loss: 0.2193 - val_acc: 0.4551\n",
            "Epoch 127/200\n",
            "11541/11541 [==============================] - 0s 16us/step - loss: 0.2146 - acc: 0.4498 - val_loss: 0.2189 - val_acc: 0.4596\n",
            "Epoch 128/200\n",
            "11541/11541 [==============================] - 0s 16us/step - loss: 0.2153 - acc: 0.4500 - val_loss: 0.2233 - val_acc: 0.4610\n",
            "Epoch 129/200\n",
            "11541/11541 [==============================] - 0s 16us/step - loss: 0.2150 - acc: 0.4528 - val_loss: 0.2225 - val_acc: 0.4398\n",
            "Epoch 130/200\n",
            "11541/11541 [==============================] - 0s 16us/step - loss: 0.2152 - acc: 0.4481 - val_loss: 0.2161 - val_acc: 0.4440\n",
            "Epoch 131/200\n",
            "11541/11541 [==============================] - 0s 16us/step - loss: 0.2141 - acc: 0.4523 - val_loss: 0.2212 - val_acc: 0.4481\n",
            "Epoch 132/200\n",
            "11541/11541 [==============================] - 0s 17us/step - loss: 0.2141 - acc: 0.4565 - val_loss: 0.2164 - val_acc: 0.4589\n",
            "Epoch 133/200\n",
            "11541/11541 [==============================] - 0s 16us/step - loss: 0.2118 - acc: 0.4547 - val_loss: 0.2189 - val_acc: 0.4558\n",
            "Epoch 134/200\n",
            "11541/11541 [==============================] - 0s 17us/step - loss: 0.2138 - acc: 0.4534 - val_loss: 0.2177 - val_acc: 0.4575\n",
            "Epoch 135/200\n",
            "11541/11541 [==============================] - 0s 16us/step - loss: 0.2143 - acc: 0.4508 - val_loss: 0.2207 - val_acc: 0.4218\n",
            "Epoch 136/200\n",
            "11541/11541 [==============================] - 0s 17us/step - loss: 0.2142 - acc: 0.4533 - val_loss: 0.2174 - val_acc: 0.4485\n",
            "Epoch 137/200\n",
            "11541/11541 [==============================] - 0s 16us/step - loss: 0.2117 - acc: 0.4569 - val_loss: 0.2168 - val_acc: 0.4766\n",
            "Epoch 138/200\n",
            "11541/11541 [==============================] - 0s 16us/step - loss: 0.2147 - acc: 0.4602 - val_loss: 0.2182 - val_acc: 0.4391\n",
            "Epoch 139/200\n",
            "11541/11541 [==============================] - 0s 16us/step - loss: 0.2128 - acc: 0.4555 - val_loss: 0.2196 - val_acc: 0.4533\n",
            "Epoch 140/200\n",
            "11541/11541 [==============================] - 0s 17us/step - loss: 0.2123 - acc: 0.4580 - val_loss: 0.2164 - val_acc: 0.4533\n",
            "Epoch 141/200\n",
            "11541/11541 [==============================] - 0s 16us/step - loss: 0.2127 - acc: 0.4587 - val_loss: 0.2149 - val_acc: 0.4554\n",
            "Epoch 142/200\n",
            "11541/11541 [==============================] - 0s 16us/step - loss: 0.2214 - acc: 0.4539 - val_loss: 0.2335 - val_acc: 0.4638\n",
            "Epoch 143/200\n",
            "11541/11541 [==============================] - 0s 16us/step - loss: 0.2166 - acc: 0.4602 - val_loss: 0.2178 - val_acc: 0.4540\n",
            "Epoch 144/200\n",
            "11541/11541 [==============================] - 0s 16us/step - loss: 0.2121 - acc: 0.4601 - val_loss: 0.2133 - val_acc: 0.4596\n",
            "Epoch 145/200\n",
            "11541/11541 [==============================] - 0s 16us/step - loss: 0.2088 - acc: 0.4590 - val_loss: 0.2112 - val_acc: 0.4565\n",
            "Epoch 146/200\n",
            "11541/11541 [==============================] - 0s 16us/step - loss: 0.2100 - acc: 0.4651 - val_loss: 0.2150 - val_acc: 0.4592\n",
            "Epoch 147/200\n",
            "11541/11541 [==============================] - 0s 16us/step - loss: 0.2102 - acc: 0.4676 - val_loss: 0.2149 - val_acc: 0.4634\n",
            "Epoch 148/200\n",
            "11541/11541 [==============================] - 0s 16us/step - loss: 0.2108 - acc: 0.4656 - val_loss: 0.2156 - val_acc: 0.4592\n",
            "Epoch 149/200\n",
            "11541/11541 [==============================] - 0s 16us/step - loss: 0.2103 - acc: 0.4598 - val_loss: 0.2116 - val_acc: 0.4509\n",
            "Epoch 150/200\n",
            "11541/11541 [==============================] - 0s 16us/step - loss: 0.2119 - acc: 0.4668 - val_loss: 0.2173 - val_acc: 0.4696\n",
            "Epoch 151/200\n",
            "11541/11541 [==============================] - 0s 17us/step - loss: 0.2101 - acc: 0.4628 - val_loss: 0.2134 - val_acc: 0.4631\n",
            "Epoch 152/200\n",
            "11541/11541 [==============================] - 0s 17us/step - loss: 0.2100 - acc: 0.4587 - val_loss: 0.2157 - val_acc: 0.4443\n",
            "Epoch 153/200\n",
            "11541/11541 [==============================] - 0s 16us/step - loss: 0.2100 - acc: 0.4603 - val_loss: 0.2180 - val_acc: 0.4703\n",
            "Epoch 154/200\n",
            "11541/11541 [==============================] - 0s 17us/step - loss: 0.2146 - acc: 0.4647 - val_loss: 0.2184 - val_acc: 0.4724\n",
            "Epoch 155/200\n",
            "11541/11541 [==============================] - 0s 16us/step - loss: 0.2111 - acc: 0.4653 - val_loss: 0.2106 - val_acc: 0.4638\n",
            "Epoch 156/200\n",
            "11541/11541 [==============================] - 0s 16us/step - loss: 0.2087 - acc: 0.4667 - val_loss: 0.2126 - val_acc: 0.4693\n",
            "Epoch 157/200\n",
            "11541/11541 [==============================] - 0s 16us/step - loss: 0.2111 - acc: 0.4659 - val_loss: 0.2105 - val_acc: 0.4523\n",
            "Epoch 158/200\n",
            "11541/11541 [==============================] - 0s 16us/step - loss: 0.2101 - acc: 0.4646 - val_loss: 0.2166 - val_acc: 0.4426\n",
            "Epoch 159/200\n",
            "11541/11541 [==============================] - 0s 15us/step - loss: 0.2101 - acc: 0.4682 - val_loss: 0.2130 - val_acc: 0.4641\n",
            "Epoch 160/200\n",
            "11541/11541 [==============================] - 0s 15us/step - loss: 0.2072 - acc: 0.4691 - val_loss: 0.2131 - val_acc: 0.4561\n",
            "Epoch 161/200\n",
            "11541/11541 [==============================] - 0s 17us/step - loss: 0.2078 - acc: 0.4687 - val_loss: 0.2113 - val_acc: 0.4488\n",
            "Epoch 162/200\n",
            "11541/11541 [==============================] - 0s 16us/step - loss: 0.2078 - acc: 0.4714 - val_loss: 0.2116 - val_acc: 0.4742\n",
            "Epoch 163/200\n",
            "11541/11541 [==============================] - 0s 17us/step - loss: 0.2075 - acc: 0.4659 - val_loss: 0.2122 - val_acc: 0.4731\n",
            "Epoch 164/200\n",
            "11541/11541 [==============================] - 0s 16us/step - loss: 0.2077 - acc: 0.4708 - val_loss: 0.2136 - val_acc: 0.4648\n",
            "Epoch 165/200\n",
            "11541/11541 [==============================] - 0s 16us/step - loss: 0.2078 - acc: 0.4656 - val_loss: 0.2113 - val_acc: 0.4731\n",
            "Epoch 166/200\n",
            "11541/11541 [==============================] - 0s 16us/step - loss: 0.2058 - acc: 0.4688 - val_loss: 0.2107 - val_acc: 0.4634\n",
            "Epoch 167/200\n",
            "11541/11541 [==============================] - 0s 17us/step - loss: 0.2079 - acc: 0.4744 - val_loss: 0.2135 - val_acc: 0.4655\n",
            "Epoch 168/200\n",
            "11541/11541 [==============================] - 0s 16us/step - loss: 0.2082 - acc: 0.4708 - val_loss: 0.2115 - val_acc: 0.4606\n",
            "Epoch 169/200\n",
            "11541/11541 [==============================] - 0s 16us/step - loss: 0.2091 - acc: 0.4701 - val_loss: 0.2119 - val_acc: 0.4790\n",
            "Epoch 170/200\n",
            "11541/11541 [==============================] - 0s 16us/step - loss: 0.2054 - acc: 0.4727 - val_loss: 0.2091 - val_acc: 0.4839\n",
            "Epoch 171/200\n",
            "11541/11541 [==============================] - 0s 16us/step - loss: 0.2028 - acc: 0.4718 - val_loss: 0.2089 - val_acc: 0.4728\n",
            "Epoch 172/200\n",
            "11541/11541 [==============================] - 0s 16us/step - loss: 0.2043 - acc: 0.4698 - val_loss: 0.2120 - val_acc: 0.4703\n",
            "Epoch 173/200\n",
            "11541/11541 [==============================] - 0s 16us/step - loss: 0.2061 - acc: 0.4725 - val_loss: 0.2144 - val_acc: 0.4787\n",
            "Epoch 174/200\n",
            "11541/11541 [==============================] - 0s 17us/step - loss: 0.2123 - acc: 0.4736 - val_loss: 0.2303 - val_acc: 0.4495\n",
            "Epoch 175/200\n",
            "11541/11541 [==============================] - 0s 17us/step - loss: 0.2172 - acc: 0.4611 - val_loss: 0.2194 - val_acc: 0.4655\n",
            "Epoch 176/200\n",
            "11541/11541 [==============================] - 0s 18us/step - loss: 0.2086 - acc: 0.4708 - val_loss: 0.2131 - val_acc: 0.4801\n",
            "Epoch 177/200\n",
            "11541/11541 [==============================] - 0s 16us/step - loss: 0.2069 - acc: 0.4765 - val_loss: 0.2089 - val_acc: 0.4755\n",
            "Epoch 178/200\n",
            "11541/11541 [==============================] - 0s 16us/step - loss: 0.2066 - acc: 0.4740 - val_loss: 0.2110 - val_acc: 0.4742\n",
            "Epoch 179/200\n",
            "11541/11541 [==============================] - 0s 16us/step - loss: 0.2084 - acc: 0.4749 - val_loss: 0.2087 - val_acc: 0.4787\n",
            "Epoch 180/200\n",
            "11541/11541 [==============================] - 0s 16us/step - loss: 0.2057 - acc: 0.4716 - val_loss: 0.2076 - val_acc: 0.4648\n",
            "Epoch 181/200\n",
            "11541/11541 [==============================] - 0s 16us/step - loss: 0.2048 - acc: 0.4754 - val_loss: 0.2084 - val_acc: 0.4828\n",
            "Epoch 182/200\n",
            "11541/11541 [==============================] - 0s 16us/step - loss: 0.2051 - acc: 0.4743 - val_loss: 0.2096 - val_acc: 0.4891\n",
            "Epoch 183/200\n",
            "11541/11541 [==============================] - 0s 16us/step - loss: 0.2048 - acc: 0.4791 - val_loss: 0.2076 - val_acc: 0.4787\n",
            "Epoch 184/200\n",
            "11541/11541 [==============================] - 0s 16us/step - loss: 0.2067 - acc: 0.4711 - val_loss: 0.2118 - val_acc: 0.4624\n",
            "Epoch 185/200\n",
            "11541/11541 [==============================] - 0s 16us/step - loss: 0.2058 - acc: 0.4731 - val_loss: 0.2121 - val_acc: 0.4735\n",
            "Epoch 186/200\n",
            "11541/11541 [==============================] - 0s 17us/step - loss: 0.2034 - acc: 0.4778 - val_loss: 0.2073 - val_acc: 0.4676\n",
            "Epoch 187/200\n",
            "11541/11541 [==============================] - 0s 16us/step - loss: 0.2030 - acc: 0.4761 - val_loss: 0.2084 - val_acc: 0.4762\n",
            "Epoch 188/200\n",
            "11541/11541 [==============================] - 0s 17us/step - loss: 0.2060 - acc: 0.4752 - val_loss: 0.2107 - val_acc: 0.4853\n",
            "Epoch 189/200\n",
            "11541/11541 [==============================] - 0s 16us/step - loss: 0.2035 - acc: 0.4753 - val_loss: 0.2105 - val_acc: 0.4728\n",
            "Epoch 190/200\n",
            "11541/11541 [==============================] - 0s 16us/step - loss: 0.2070 - acc: 0.4716 - val_loss: 0.2118 - val_acc: 0.4790\n",
            "Epoch 191/200\n",
            "11541/11541 [==============================] - 0s 16us/step - loss: 0.2025 - acc: 0.4768 - val_loss: 0.2061 - val_acc: 0.4762\n",
            "Epoch 192/200\n",
            "11541/11541 [==============================] - 0s 17us/step - loss: 0.2017 - acc: 0.4841 - val_loss: 0.2102 - val_acc: 0.4794\n",
            "Epoch 193/200\n",
            "11541/11541 [==============================] - 0s 16us/step - loss: 0.2067 - acc: 0.4753 - val_loss: 0.2142 - val_acc: 0.4644\n",
            "Epoch 194/200\n",
            "11541/11541 [==============================] - 0s 16us/step - loss: 0.2051 - acc: 0.4784 - val_loss: 0.2158 - val_acc: 0.4599\n",
            "Epoch 195/200\n",
            "11541/11541 [==============================] - 0s 16us/step - loss: 0.2067 - acc: 0.4781 - val_loss: 0.2054 - val_acc: 0.4627\n",
            "Epoch 196/200\n",
            "11541/11541 [==============================] - 0s 17us/step - loss: 0.2001 - acc: 0.4791 - val_loss: 0.2078 - val_acc: 0.4693\n",
            "Epoch 197/200\n",
            "11541/11541 [==============================] - 0s 16us/step - loss: 0.2010 - acc: 0.4811 - val_loss: 0.2087 - val_acc: 0.4880\n",
            "Epoch 198/200\n",
            "11541/11541 [==============================] - 0s 16us/step - loss: 0.2014 - acc: 0.4790 - val_loss: 0.2109 - val_acc: 0.4908\n",
            "Epoch 199/200\n",
            "11541/11541 [==============================] - 0s 16us/step - loss: 0.2015 - acc: 0.4802 - val_loss: 0.2041 - val_acc: 0.4863\n",
            "Epoch 200/200\n",
            "11541/11541 [==============================] - 0s 16us/step - loss: 0.2017 - acc: 0.4851 - val_loss: 0.2078 - val_acc: 0.4863\n"
          ],
          "name": "stdout"
        }
      ]
    },
    {
      "cell_type": "markdown",
      "metadata": {
        "id": "ysyw9kZazrni",
        "colab_type": "text"
      },
      "source": [
        "Train and Valid Loss over the epochs"
      ]
    },
    {
      "cell_type": "code",
      "metadata": {
        "id": "tTIMXBfPDyUs",
        "colab_type": "code",
        "outputId": "e6d28eee-94e8-4c75-87c6-619cae809dbf",
        "colab": {
          "base_uri": "https://localhost:8080/",
          "height": 286
        }
      },
      "source": [
        "pd.DataFrame(history).drop(['acc','val_acc'], axis=1).plot()"
      ],
      "execution_count": 12,
      "outputs": [
        {
          "output_type": "execute_result",
          "data": {
            "text/plain": [
              "<matplotlib.axes._subplots.AxesSubplot at 0x7f67b3337390>"
            ]
          },
          "metadata": {
            "tags": []
          },
          "execution_count": 12
        },
        {
          "output_type": "display_data",
          "data": {
            "image/png": "[encoded data removed]",
            "text/plain": [
              "<Figure size 432x288 with 1 Axes>"
            ]
          },
          "metadata": {
            "tags": []
          }
        }
      ]
    },
    {
      "cell_type": "markdown",
      "metadata": {
        "id": "MU7xbVSBz4YB",
        "colab_type": "text"
      },
      "source": [
        "Use the validation set to identify a threshold for classifying the class. "
      ]
    },
    {
      "cell_type": "code",
      "metadata": {
        "id": "eI_-tpfrR1Hw",
        "colab_type": "code",
        "outputId": "b37fb44c-b983-40c1-8900-3321e02d10f0",
        "colab": {
          "base_uri": "https://localhost:8080/",
          "height": 295
        }
      },
      "source": [
        "valid_x_predictions = autoencoder.predict(X_val_rescaled)\n",
        "mse = np.mean(np.power(X_val_rescaled - valid_x_predictions, 2), axis=1)\n",
        "error_df = pd.DataFrame({'Reconstruction_error': mse,\n",
        "                        'True_class': val['y']})\n",
        "precision_rt, recall_rt, threshold_rt = precision_recall_curve(error_df.True_class, error_df.Reconstruction_error)\n",
        "plt.plot(threshold_rt, precision_rt[1:], label=\"Precision\",linewidth=5)\n",
        "plt.plot(threshold_rt, recall_rt[1:], label=\"Recall\",linewidth=5)\n",
        "plt.title('Precision and recall for different threshold values')\n",
        "plt.xlabel('Threshold')\n",
        "plt.ylabel('Precision/Recall')\n",
        "plt.legend()\n",
        "plt.show()"
      ],
      "execution_count": 13,
      "outputs": [
        {
          "output_type": "display_data",
          "data": {
            "image/png": "[encoded data removed]",
            "text/plain": [
              "<Figure size 432x288 with 1 Axes>"
            ]
          },
          "metadata": {
            "tags": []
          }
        }
      ]
    },
    {
      "cell_type": "markdown",
      "metadata": {
        "id": "QtEDwosvz-RC",
        "colab_type": "text"
      },
      "source": [
        "The Threshold is identified as 0.4 . As it provides a reasonable trade-off between precision and recall."
      ]
    },
    {
      "cell_type": "code",
      "metadata": {
        "id": "pt537QqNcMuw",
        "colab_type": "code",
        "outputId": "604a9d48-cab6-402b-8916-bc0bafe97955",
        "colab": {
          "base_uri": "https://localhost:8080/",
          "height": 295
        }
      },
      "source": [
        "test_x_predictions = autoencoder.predict(X_test_rescaled)\n",
        "mse = np.mean(np.power(X_test_rescaled - test_x_predictions, 2), axis=1)\n",
        "error_df_test = pd.DataFrame({'Reconstruction_error': mse,\n",
        "                        'True_class': test['y']})\n",
        "error_df_test = error_df_test.reset_index()\n",
        "threshold_fixed = 0.4\n",
        "groups = error_df_test.groupby('True_class')\n",
        "fig, ax = plt.subplots()\n",
        "for name, group in groups:\n",
        "    ax.plot(group.index, group.Reconstruction_error, marker='o', ms=3.5, linestyle='',\n",
        "            label= \"Break\" if name == 1 else \"Normal\")\n",
        "ax.hlines(threshold_fixed, ax.get_xlim()[0], ax.get_xlim()[1], colors=\"r\", zorder=100, label='Threshold')\n",
        "ax.legend()\n",
        "plt.title(\"Reconstruction error for different classes\")\n",
        "plt.ylabel(\"Reconstruction error\")\n",
        "plt.xlabel(\"Data point index\")\n",
        "plt.show();"
      ],
      "execution_count": 14,
      "outputs": [
        {
          "output_type": "display_data",
          "data": {
            "image/png": "[encoded data removed]",
            "text/plain": [
              "<Figure size 432x288 with 1 Axes>"
            ]
          },
          "metadata": {
            "tags": []
          }
        }
      ]
    },
    {
      "cell_type": "markdown",
      "metadata": {
        "id": "-SGL3tJm0LK5",
        "colab_type": "text"
      },
      "source": [
        "The orange and blue dots above the threshold line represents the True Positive and False Positive, respectively."
      ]
    },
    {
      "cell_type": "code",
      "metadata": {
        "id": "79Tw2bfXcZxG",
        "colab_type": "code",
        "outputId": "37b26aec-a80b-4a39-b0bb-f18cbc63455a",
        "colab": {
          "base_uri": "https://localhost:8080/",
          "height": 730
        }
      },
      "source": [
        "LABELS = [\"Normal\",\"Break\"]\n",
        "\n",
        "pred_y = [1 if e > threshold_fixed else 0 for e in error_df.Reconstruction_error.values]\n",
        "conf_matrix = confusion_matrix(error_df.True_class, pred_y)\n",
        "plt.figure(figsize=(12, 12))\n",
        "sns.heatmap(conf_matrix, xticklabels=LABELS, yticklabels=LABELS, annot=True, fmt=\"d\");\n",
        "plt.title(\"Confusion matrix\")\n",
        "plt.ylabel('True class')\n",
        "plt.xlabel('Predicted class')\n",
        "plt.show()"
      ],
      "execution_count": 15,
      "outputs": [
        {
          "output_type": "display_data",
          "data": {
            "image/png": "[encoded data removed]",
            "text/plain": [
              "<Figure size 864x864 with 2 Axes>"
            ]
          },
          "metadata": {
            "tags": []
          }
        }
      ]
    },
    {
      "cell_type": "markdown",
      "metadata": {
        "id": "16iKCJ6F0XTx",
        "colab_type": "text"
      },
      "source": [
        "We could predict 9 out of 41 breaks instances. Note that these instances include 2 or 4 minute ahead predictions. This is around 20%, which is a good recall rate for the paper industry."
      ]
    },
    {
      "cell_type": "code",
      "metadata": {
        "id": "SIwxpesGeBmj",
        "colab_type": "code",
        "outputId": "66f91b04-7957-48aa-d306-06fe32bf83c0",
        "colab": {
          "base_uri": "https://localhost:8080/",
          "height": 595
        }
      },
      "source": [
        "from keras.wrappers.scikit_learn import KerasClassifier, KerasRegressor\n",
        "from sklearn.model_selection import GridSearchCV\n",
        "def make_model(optimizer=\"adam\",   encoding_dim = 32, learning_rate = 1e-3):\n",
        "  input_dim = X_train_0.shape[1] #num of predictor variables, \n",
        "  hidden_dim = int(encoding_dim / 2)\n",
        "  \n",
        "\n",
        "  input_layer = Input(shape=(input_dim, ))\n",
        "  encoder = Dense(encoding_dim, activation=\"relu\", \n",
        "                  activity_regularizer=regularizers.l1(learning_rate))(input_layer)\n",
        "  encoder = Dense(hidden_dim, activation=\"relu\")(encoder)\n",
        "  decoder = Dense(hidden_dim, activation=\"relu\")(encoder)\n",
        "  decoder = Dense(encoding_dim, activation=\"relu\")(decoder)\n",
        "  decoder = Dense(input_dim, activation=\"linear\")(decoder)\n",
        "  autoencoder = Model(inputs=input_layer, outputs=decoder)\n",
        "\n",
        "\n",
        "  autoencoder.compile(metrics=['accuracy'],\n",
        "                    loss='mean_squared_error',\n",
        "                    optimizer='adam')\n",
        "    \n",
        "  return autoencoder\n",
        "clf = KerasClassifier(make_model)\n",
        "param_grid = {'learning_rate': [1e-3,1e-2, 1e-4],  \n",
        "              'encoding_dim': [32, 16,8]}\n",
        "grid = GridSearchCV(clf, param_grid=param_grid, cv=3)\n",
        "grid.fit(X_train_0_rescaled, X_train_0_rescaled, epochs=100, verbose =0)"
      ],
      "execution_count": 16,
      "outputs": [
        {
          "output_type": "stream",
          "text": [
            "3847/3847 [==============================] - 0s 37us/step\n",
            "3847/3847 [==============================] - 0s 46us/step\n",
            "3847/3847 [==============================] - 0s 59us/step\n",
            "3847/3847 [==============================] - 0s 67us/step\n",
            "3847/3847 [==============================] - 0s 77us/step\n",
            "3847/3847 [==============================] - 0s 85us/step\n",
            "3847/3847 [==============================] - 0s 94us/step\n",
            "3847/3847 [==============================] - 0s 110us/step\n",
            "3847/3847 [==============================] - 0s 123us/step\n",
            "3847/3847 [==============================] - 1s 133us/step\n",
            "3847/3847 [==============================] - 1s 140us/step\n",
            "3847/3847 [==============================] - 1s 150us/step\n",
            "3847/3847 [==============================] - 1s 157us/step\n",
            "3847/3847 [==============================] - 1s 171us/step\n",
            "3847/3847 [==============================] - 1s 180us/step\n",
            "3847/3847 [==============================] - 1s 189us/step\n",
            "3847/3847 [==============================] - 1s 201us/step\n",
            "3847/3847 [==============================] - 1s 207us/step\n",
            "3847/3847 [==============================] - 1s 218us/step\n",
            "3847/3847 [==============================] - 1s 229us/step\n",
            "3847/3847 [==============================] - 1s 244us/step\n",
            "3847/3847 [==============================] - 1s 245us/step\n",
            "3847/3847 [==============================] - 1s 259us/step\n",
            "3847/3847 [==============================] - 1s 267us/step\n",
            "3847/3847 [==============================] - 1s 281us/step\n",
            "3847/3847 [==============================] - 1s 285us/step\n",
            "3847/3847 [==============================] - 1s 296us/step\n"
          ],
          "name": "stdout"
        },
        {
          "output_type": "execute_result",
          "data": {
            "text/plain": [
              "GridSearchCV(cv=3, error_score='raise-deprecating',\n",
              "             estimator=<keras.wrappers.scikit_learn.KerasClassifier object at 0x7f67aa89a588>,\n",
              "             iid='warn', n_jobs=None,\n",
              "             param_grid={'encoding_dim': [32, 16, 8],\n",
              "                         'learning_rate': [0.001, 0.01, 0.0001]},\n",
              "             pre_dispatch='2*n_jobs', refit=True, return_train_score=False,\n",
              "             scoring=None, verbose=0)"
            ]
          },
          "metadata": {
            "tags": []
          },
          "execution_count": 16
        }
      ]
    },
    {
      "cell_type": "code",
      "metadata": {
        "id": "JBn19gzFBkmU",
        "colab_type": "code",
        "outputId": "23d3f3df-cc82-4f5d-e40f-0e73e0a3471e",
        "colab": {
          "base_uri": "https://localhost:8080/",
          "height": 34
        }
      },
      "source": [
        "grid.best_params_"
      ],
      "execution_count": 21,
      "outputs": [
        {
          "output_type": "execute_result",
          "data": {
            "text/plain": [
              "{'encoding_dim': 32, 'learning_rate': 0.0001}"
            ]
          },
          "metadata": {
            "tags": []
          },
          "execution_count": 21
        }
      ]
    }
  ]
}